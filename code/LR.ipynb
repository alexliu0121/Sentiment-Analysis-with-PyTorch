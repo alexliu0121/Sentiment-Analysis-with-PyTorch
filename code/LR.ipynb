{
 "cells": [
  {
   "cell_type": "code",
   "execution_count": 29,
   "metadata": {
    "colab": {
     "base_uri": "https://localhost:8080/"
    },
    "id": "wmf6T3z0YA3h",
    "outputId": "b6b07ecd-41e3-4586-cc79-31c5d0639187"
   },
   "outputs": [
    {
     "name": "stdout",
     "output_type": "stream",
     "text": [
      "Requirement already satisfied: portalocker==2.8.2 in /home/cliu282/miniconda3/lib/python3.11/site-packages (2.8.2)\n"
     ]
    }
   ],
   "source": [
    "!pip install portalocker==2.8.2"
   ]
  },
  {
   "cell_type": "code",
   "execution_count": 30,
   "metadata": {
    "id": "UVt4ZQ3LX98k"
   },
   "outputs": [],
   "source": [
    "import torch\n",
    "import torchtext\n",
    "import random\n",
    "from torchtext.datasets import IMDB\n",
    "from torchtext.data.utils import get_tokenizer\n",
    "from collections import Counter\n",
    "from torchtext.vocab import vocab\n",
    "from collections import Counter, OrderedDict\n",
    "from torchtext.vocab import build_vocab_from_iterator\n",
    "from torch.utils.data import DataLoader\n",
    "from torch.nn.utils.rnn import pad_sequence\n",
    "import torch.nn as nn\n",
    "import torch.nn.functional as F\n",
    "import torch.optim as optim"
   ]
  },
  {
   "cell_type": "code",
   "execution_count": 31,
   "metadata": {},
   "outputs": [],
   "source": [
    "hyper_parameter={\n",
    "    'batch_size' : 10, #5,16,32,64,128\n",
    "    'learning_rate' : 1e-3, #1e-1,1e-3,1e-5,1e-7,1e-9\n",
    "    'N_EPOCHS' : 5,\n",
    "}"
   ]
  },
  {
   "cell_type": "code",
   "execution_count": 32,
   "metadata": {
    "id": "_JDJq5-kX935"
   },
   "outputs": [],
   "source": [
    "train_iter = IMDB(split='train')\n",
    "tokenizer = get_tokenizer('spacy', language='en_core_web_sm')\n",
    "\n",
    "def yield_tokens_batch(train_iter):\n",
    "    for (label, line) in train_iter:\n",
    "      yield tokenizer(line)\n",
    "voc = build_vocab_from_iterator(yield_tokens_batch(train_iter), min_freq =3, specials=[\"<PAD>\",\"<unk>\"])\n",
    "voc.set_default_index(voc['<unk>'])\n",
    "# label_transform = lambda x: 1 if x == 'pos' else 0\n",
    "label_transform = lambda x: 1 if x == 2 else 0\n",
    "text_transform = lambda x: [voc[token] for token in tokenizer(x)]"
   ]
  },
  {
   "cell_type": "code",
   "execution_count": 33,
   "metadata": {
    "id": "FjujtUy5X90o"
   },
   "outputs": [],
   "source": [
    "import numpy as np\n",
    "train_iter = IMDB(split='train')\n",
    "test_iter = IMDB(split='test')\n",
    "train_list = list(train_iter)\n",
    "random.shuffle(train_list)\n",
    "\n",
    "dev_list = train_list[:7500]\n",
    "devfile = open(\"dev.txt\", \"w\")\n",
    "for element in dev_list:\n",
    "    devfile.write(str(element[1]) + str(element[0])+\"\\n\")\n",
    "devfile.close()\n",
    "\n",
    "test_list = list(test_iter)\n",
    "testfile = open(\"test.txt\", \"w\")\n",
    "for element in test_list:\n",
    "    testfile.write(str(element[1])+ str(element[0]) + \"\\n\")\n",
    "testfile.close()\n",
    "\n",
    "train_list = train_list[7500:]"
   ]
  },
  {
   "cell_type": "code",
   "execution_count": 34,
   "metadata": {},
   "outputs": [
    {
     "data": {
      "text/plain": [
       "7500"
      ]
     },
     "execution_count": 34,
     "metadata": {},
     "output_type": "execute_result"
    }
   ],
   "source": [
    "len(dev_list)"
   ]
  },
  {
   "cell_type": "code",
   "execution_count": 35,
   "metadata": {
    "id": "-VawXGmNZVEZ"
   },
   "outputs": [],
   "source": [
    "def collate_batch(batch):\n",
    "   label_list, text_list = [], []\n",
    "    # change this thing to be the size per batch\n",
    "   max_len = 50\n",
    "   for (_label, _text) in batch:\n",
    "        label_list.append(label_transform(_label))\n",
    "        processed_text = torch.LongTensor(text_transform(_text))\n",
    "        # processed_text = nn.ConstantPad1d((0, max_len - processed_text.shape[0]), 0)(processed_text)\n",
    "        text_list.append(processed_text)\n",
    "\n",
    "    # change the padding value (e.g., 0)\n",
    "   return   pad_sequence(text_list, padding_value=0),torch.LongTensor(label_list)"
   ]
  },
  {
   "cell_type": "code",
   "execution_count": 36,
   "metadata": {
    "colab": {
     "base_uri": "https://localhost:8080/"
    },
    "id": "aLQzwOAcX9p9",
    "outputId": "90bfc596-dc72-42b4-95ff-af9a37212c11"
   },
   "outputs": [
    {
     "name": "stdout",
     "output_type": "stream",
     "text": [
      "Number of training examples: 1750\n",
      "Number of dev examples: 750\n",
      "Number of test examples: 2500\n"
     ]
    }
   ],
   "source": [
    "#5,16,32,64,128\n",
    "batch_size = hyper_parameter['batch_size']\n",
    "\n",
    "train_iterator = DataLoader(train_list, batch_size, shuffle=True,\n",
    "                              collate_fn=collate_batch, drop_last=True)\n",
    "valid_iterator = DataLoader(dev_list, batch_size, shuffle=False,\n",
    "                              collate_fn=collate_batch, drop_last=True)\n",
    "test_iterator = DataLoader(test_list, batch_size, shuffle=False,\n",
    "                              collate_fn=collate_batch, drop_last=True)\n",
    "print(f'Number of training examples: {len(train_iterator)}')\n",
    "print(f'Number of dev examples: {len(valid_iterator)}')\n",
    "print(f'Number of test examples: {len(test_iterator)}')"
   ]
  },
  {
   "cell_type": "code",
   "execution_count": 37,
   "metadata": {
    "colab": {
     "base_uri": "https://localhost:8080/"
    },
    "id": "t11Y-KsiX9hM",
    "outputId": "db0a5b8b-5f9a-474e-a539-7c6d0932e30d"
   },
   "outputs": [
    {
     "name": "stdout",
     "output_type": "stream",
     "text": [
      "GPU is available\n"
     ]
    },
    {
     "data": {
      "text/plain": [
       "device(type='cuda', index=4)"
      ]
     },
     "execution_count": 37,
     "metadata": {},
     "output_type": "execute_result"
    }
   ],
   "source": [
    "is_cuda = torch.cuda.is_available()\n",
    "\n",
    "# If we have a GPU available, we'll set our device to GPU. We'll use this device variable later in our code.\n",
    "if is_cuda:\n",
    "    device = torch.device(\"cuda\")\n",
    "    print(\"GPU is available\")\n",
    "else:\n",
    "    device = torch.device(\"cpu\")\n",
    "    print(\"GPU not available, CPU used\")\n",
    "device\n",
    "\n",
    "device = torch.device('cuda:4' if torch.cuda.is_available() else 'cpu')\n",
    "device"
   ]
  },
  {
   "cell_type": "markdown",
   "metadata": {},
   "source": [
    "LR"
   ]
  },
  {
   "cell_type": "code",
   "execution_count": 38,
   "metadata": {
    "id": "nI_gFLUXCEdY"
   },
   "outputs": [],
   "source": [
    "class LR(nn.Module):\n",
    "    def __init__(self, input_dim, embedding_dim, output_dim, padding_idx):\n",
    "        super().__init__()\n",
    "        self.embedding = nn.Embedding(input_dim, embedding_dim, padding_idx=padding_idx)\n",
    "        self.fc = nn.Linear(embedding_dim, output_dim)\n",
    "    def forward(self, text):\n",
    "        embedded = self.embedding(text).squeeze().sum(0)\n",
    "        return self.fc(embedded)"
   ]
  },
  {
   "cell_type": "code",
   "execution_count": 39,
   "metadata": {
    "id": "-lZ2obDVDmEl"
   },
   "outputs": [],
   "source": [
    "INPUT_DIM = voc.__len__()\n",
    "EMBEDDING_DIM = 300\n",
    "HIDDEN_DIM = 256\n",
    "OUTPUT_DIM = 1\n",
    "PAD_IDX = voc.__getitem__('<PAD>')\n",
    "model_LR = LR(INPUT_DIM, EMBEDDING_DIM, OUTPUT_DIM,PAD_IDX)"
   ]
  },
  {
   "cell_type": "code",
   "execution_count": 40,
   "metadata": {
    "colab": {
     "base_uri": "https://localhost:8080/"
    },
    "id": "eJ6_rLRuK2l7",
    "outputId": "fa2abbcb-fba6-4ddd-8d6b-5d85a03ae092"
   },
   "outputs": [
    {
     "name": "stdout",
     "output_type": "stream",
     "text": [
      "The LR model has 14,583,601 trainable parameters\n"
     ]
    }
   ],
   "source": [
    "def count_parameters(model):\n",
    "    return sum(p.numel() for p in model.parameters() if p.requires_grad)\n",
    "\n",
    "print(f'The LR model has {count_parameters(model_LR):,} trainable parameters')"
   ]
  },
  {
   "cell_type": "code",
   "execution_count": 41,
   "metadata": {
    "id": "IbufnJzvLAlf"
   },
   "outputs": [],
   "source": [
    "optimizer = optim.Adam(model_LR.parameters(), lr=hyper_parameter['learning_rate'])"
   ]
  },
  {
   "cell_type": "code",
   "execution_count": 42,
   "metadata": {
    "id": "I1fHORT8LBOK"
   },
   "outputs": [],
   "source": [
    "criterion_LR = nn.BCEWithLogitsLoss()"
   ]
  },
  {
   "cell_type": "code",
   "execution_count": 43,
   "metadata": {
    "id": "z3gdBHHULC7y"
   },
   "outputs": [],
   "source": [
    "model_LR = model_LR.to(device)\n",
    "criterion_LR = criterion_LR.to(device)"
   ]
  },
  {
   "cell_type": "code",
   "execution_count": 44,
   "metadata": {
    "id": "KF2EdETnLEwt"
   },
   "outputs": [],
   "source": [
    "def binary_accuracy(preds, y):\n",
    "    \"\"\"\n",
    "    Returns accuracy per batch, i.e. if you get 8/10 right, this returns 0.8, NOT 8\n",
    "    \"\"\"\n",
    "\n",
    "    #round predictions to the closest integer\n",
    "    rounded_preds = torch.round(torch.sigmoid(preds))\n",
    "    correct = (rounded_preds == y).float() #convert into float for division\n",
    "    acc = correct.sum() / len(correct)\n",
    "    return acc"
   ]
  },
  {
   "cell_type": "code",
   "execution_count": 45,
   "metadata": {
    "id": "2o9l76H5LGm9"
   },
   "outputs": [],
   "source": [
    "from tqdm import tqdm\n",
    "def train(model, iterator, optimizer, criterion):\n",
    "\n",
    "    epoch_loss = 0\n",
    "    epoch_acc = 0\n",
    "\n",
    "    model.train()\n",
    "\n",
    "    for inputs, labels in tqdm(iterator):\n",
    "\n",
    "        optimizer.zero_grad()\n",
    "\n",
    "        predictions = model(inputs.to(device)).squeeze(1).to(device)\n",
    "        # predictions = model(inputs.to(device)).to(device)\n",
    "\n",
    "        loss = criterion(predictions,labels.float().to(device)).to(device)\n",
    "\n",
    "        acc = binary_accuracy(predictions, labels.float().to(device))\n",
    "\n",
    "        loss.backward()\n",
    "\n",
    "        optimizer.step()\n",
    "\n",
    "        epoch_loss += loss.item()\n",
    "        epoch_acc += acc.item()\n",
    "\n",
    "    return epoch_loss / len(iterator), epoch_acc / len(iterator)"
   ]
  },
  {
   "cell_type": "code",
   "execution_count": 46,
   "metadata": {
    "id": "bBwRhOrzLKSH"
   },
   "outputs": [],
   "source": [
    "def evaluate(model, iterator, criterion):\n",
    "\n",
    "    epoch_loss = 0\n",
    "    epoch_acc = 0\n",
    "    all_prediction = []\n",
    "    all_labels = []\n",
    "\n",
    "    model.eval()\n",
    "\n",
    "    with torch.no_grad():\n",
    "        for  inputs, labels in iterator:\n",
    "\n",
    "            predictions = model(inputs.to(device)).squeeze(1).to(device)\n",
    "            # predictions = model(inputs.to(device)).to(device)\n",
    "\n",
    "            loss = criterion(predictions,labels.float().to(device)).to(device)\n",
    "\n",
    "            acc = binary_accuracy(predictions, labels.float().to(device))\n",
    "\n",
    "            epoch_loss += loss.item()\n",
    "            epoch_acc += acc.item()\n",
    "            # predictions = predictions.round().cpu().numpy()\n",
    "            rounded_preds = torch.round(torch.sigmoid(predictions)).cpu().numpy().astype(int)\n",
    "            all_prediction.extend(rounded_preds)\n",
    "            all_labels.extend(labels.cpu().numpy())\n",
    "\n",
    "    return epoch_loss / len(iterator), epoch_acc / len(iterator), all_prediction, all_labels"
   ]
  },
  {
   "cell_type": "code",
   "execution_count": 47,
   "metadata": {
    "id": "FOHkN5P5LMtl"
   },
   "outputs": [],
   "source": [
    "import time\n",
    "\n",
    "def epoch_time(start_time, end_time):\n",
    "    elapsed_time = end_time - start_time\n",
    "    elapsed_mins = int(elapsed_time / 60)\n",
    "    elapsed_secs = int(elapsed_time - (elapsed_mins * 60))\n",
    "    return elapsed_mins, elapsed_secs, elapsed_time\n",
    "time_list_LR = []\n",
    "acc_list_LR = []\n",
    "acc_list_lr_LR = []"
   ]
  },
  {
   "cell_type": "code",
   "execution_count": 49,
   "metadata": {
    "colab": {
     "base_uri": "https://localhost:8080/"
    },
    "id": "63EPftxxLOxH",
    "outputId": "8ad87999-d3fe-4403-8526-b9b56549da97"
   },
   "outputs": [
    {
     "name": "stderr",
     "output_type": "stream",
     "text": [
      "100%|██████████| 1750/1750 [00:19<00:00, 89.23it/s] \n"
     ]
    },
    {
     "name": "stdout",
     "output_type": "stream",
     "text": [
      "Epoch: 01 | Epoch Time: 0m 25s\n",
      "\tTrain Loss: 0.758 | Train Acc: 82.42%\n",
      "\t Val. Loss: 0.620 |  Val. Acc: 84.25%\n"
     ]
    },
    {
     "name": "stderr",
     "output_type": "stream",
     "text": [
      "100%|██████████| 1750/1750 [00:18<00:00, 94.26it/s] \n"
     ]
    },
    {
     "name": "stdout",
     "output_type": "stream",
     "text": [
      "Epoch: 02 | Epoch Time: 0m 24s\n",
      "\tTrain Loss: 0.363 | Train Acc: 90.07%\n",
      "\t Val. Loss: 0.640 |  Val. Acc: 86.03%\n"
     ]
    },
    {
     "name": "stderr",
     "output_type": "stream",
     "text": [
      "100%|██████████| 1750/1750 [00:19<00:00, 90.92it/s] \n"
     ]
    },
    {
     "name": "stdout",
     "output_type": "stream",
     "text": [
      "Epoch: 03 | Epoch Time: 0m 25s\n",
      "\tTrain Loss: 0.237 | Train Acc: 93.66%\n",
      "\t Val. Loss: 1.078 |  Val. Acc: 83.60%\n"
     ]
    },
    {
     "name": "stderr",
     "output_type": "stream",
     "text": [
      "100%|██████████| 1750/1750 [00:20<00:00, 87.32it/s] \n"
     ]
    },
    {
     "name": "stdout",
     "output_type": "stream",
     "text": [
      "Epoch: 04 | Epoch Time: 0m 25s\n",
      "\tTrain Loss: 0.164 | Train Acc: 95.75%\n",
      "\t Val. Loss: 0.944 |  Val. Acc: 86.87%\n"
     ]
    },
    {
     "name": "stderr",
     "output_type": "stream",
     "text": [
      "100%|██████████| 1750/1750 [00:19<00:00, 88.07it/s] \n"
     ]
    },
    {
     "name": "stdout",
     "output_type": "stream",
     "text": [
      "Epoch: 05 | Epoch Time: 0m 25s\n",
      "\tTrain Loss: 0.159 | Train Acc: 96.37%\n",
      "\t Val. Loss: 1.188 |  Val. Acc: 86.87%\n"
     ]
    }
   ],
   "source": [
    "N_EPOCHS = hyper_parameter['N_EPOCHS']\n",
    "\n",
    "best_valid_loss = float('inf')\n",
    "\n",
    "total_time=0\n",
    "last_val_acc=0\n",
    "last_val_acc_lr=0\n",
    "final_valid_prediction=[]\n",
    "final_labels = []\n",
    "\n",
    "for epoch in range(N_EPOCHS):\n",
    "\n",
    "    start_time = time.time()\n",
    "\n",
    "    train_loss, train_acc = train(model_LR, train_iterator, optimizer, criterion_LR)\n",
    "    valid_loss, valid_acc, valid_prediction, all_labels = evaluate(model_LR, valid_iterator, criterion_LR)\n",
    "\n",
    "    end_time = time.time()\n",
    "\n",
    "    epoch_mins, epoch_secs, epoch_total_time = epoch_time(start_time, end_time)\n",
    "\n",
    "    if valid_loss < best_valid_loss:\n",
    "        best_valid_loss = valid_loss\n",
    "        torch.save(model_LR.state_dict(), 'LR-model.pt')\n",
    "\n",
    "    print(f'Epoch: {epoch+1:02} | Epoch Time: {epoch_mins}m {epoch_secs}s')\n",
    "    print(f'\\tTrain Loss: {train_loss:.3f} | Train Acc: {train_acc*100:.2f}%')\n",
    "    print(f'\\t Val. Loss: {valid_loss:.3f} |  Val. Acc: {valid_acc*100:.2f}%')\n",
    "    total_time=total_time+epoch_total_time\n",
    "    # average_time=total_time/N_EPOCHS\n",
    "    if epoch == N_EPOCHS - 1:\n",
    "        last_val_acc=round(valid_acc * 100, 2)\n",
    "        final_valid_prediction=valid_prediction\n",
    "        final_labels = all_labels\n",
    "        \n",
    "time_tuple=(batch_size,total_time)\n",
    "acc_tuple=(batch_size,last_val_acc)\n",
    "acc_tuple_lr=(hyper_parameter['learning_rate'],last_val_acc)\n",
    "time_list_LR.append(time_tuple)\n",
    "acc_list_LR.append(acc_tuple)\n",
    "acc_list_lr_LR.append(acc_tuple_lr)"
   ]
  },
  {
   "cell_type": "code",
   "execution_count": 72,
   "metadata": {
    "colab": {
     "base_uri": "https://localhost:8080/"
    },
    "id": "s2vQBjeTLTTv",
    "outputId": "e1ccad7a-bfb5-40c5-c069-af4075797688"
   },
   "outputs": [
    {
     "name": "stdout",
     "output_type": "stream",
     "text": [
      "Test Loss: 0.710 | Test Acc: 82.24%\n"
     ]
    }
   ],
   "source": [
    "model_LR.load_state_dict(torch.load('LR-model.pt'))\n",
    "comment_text_test=[]\n",
    "for i in test_list:\n",
    "    comment_text_test.append(i[1])\n",
    "\n",
    "test_loss, test_acc, test_prediction, test_lables = evaluate(model_LR, test_iterator, criterion_LR)\n",
    "\n",
    "print(f'Test Loss: {test_loss:.3f} | Test Acc: {test_acc*100:.2f}%')"
   ]
  },
  {
   "cell_type": "code",
   "execution_count": null,
   "metadata": {
    "colab": {
     "base_uri": "https://localhost:8080/"
    },
    "id": "Ev4idwpONzs9",
    "outputId": "ab8de18e-d7de-4ab7-9d37-718ef401d3a1"
   },
   "outputs": [
    {
     "name": "stdout",
     "output_type": "stream",
     "text": [
      "tensor([[ -4.3741],\n",
      "        [  3.8907],\n",
      "        [-12.1154],\n",
      "        [-10.6359],\n",
      "        [ -0.4262],\n",
      "        [  4.9394],\n",
      "        [  0.2404],\n",
      "        [-10.4119],\n",
      "        [  0.5488],\n",
      "        [ -7.2704],\n",
      "        [ -7.1945],\n",
      "        [ -8.0975],\n",
      "        [  1.8958],\n",
      "        [  0.5100],\n",
      "        [ 11.3260],\n",
      "        [  4.9712]], device='cuda:4', grad_fn=<AddmmBackward0>)\n",
      "tensor([[ -0.2356],\n",
      "        [  3.8024],\n",
      "        [  4.4169],\n",
      "        [-13.0050],\n",
      "        [  0.1618],\n",
      "        [ -2.5870],\n",
      "        [ -5.8745],\n",
      "        [ -9.1785],\n",
      "        [ -3.5162],\n",
      "        [-12.2192],\n",
      "        [-13.6641],\n",
      "        [  7.4903],\n",
      "        [ -1.7295],\n",
      "        [ -0.1594],\n",
      "        [  5.1686],\n",
      "        [ -5.3504]], device='cuda:4', grad_fn=<AddmmBackward0>)\n",
      "tensor([[ -0.8566],\n",
      "        [-20.1734],\n",
      "        [ -1.5172],\n",
      "        [  0.2664],\n",
      "        [  8.0462],\n",
      "        [-10.6886],\n",
      "        [-11.0640],\n",
      "        [ -3.5249],\n",
      "        [ 17.7643],\n",
      "        [  3.7482],\n",
      "        [-11.6147],\n",
      "        [ -0.6983],\n",
      "        [ -4.2689],\n",
      "        [ -9.0171],\n",
      "        [  4.7656],\n",
      "        [ -0.1610]], device='cuda:4', grad_fn=<AddmmBackward0>)\n",
      "tensor([[-6.3682],\n",
      "        [-2.1735],\n",
      "        [-2.6098],\n",
      "        [ 3.2658],\n",
      "        [ 5.2971],\n",
      "        [ 3.3329],\n",
      "        [-4.2935],\n",
      "        [-0.8132],\n",
      "        [ 2.0602],\n",
      "        [13.3531],\n",
      "        [13.0159],\n",
      "        [18.6353],\n",
      "        [-3.7191],\n",
      "        [ 1.3039],\n",
      "        [10.8809],\n",
      "        [-7.8497]], device='cuda:4', grad_fn=<AddmmBackward0>)\n",
      "tensor([[ -1.6692],\n",
      "        [ -4.7894],\n",
      "        [-13.7582],\n",
      "        [-11.7282],\n",
      "        [ 16.8449],\n",
      "        [  6.5356],\n",
      "        [ 14.4947],\n",
      "        [ -9.7225],\n",
      "        [  0.0786],\n",
      "        [  8.2861],\n",
      "        [-20.5002],\n",
      "        [ -0.4315],\n",
      "        [ -2.2106],\n",
      "        [ -1.9421],\n",
      "        [  6.8631],\n",
      "        [  4.1229]], device='cuda:4', grad_fn=<AddmmBackward0>)\n"
     ]
    }
   ],
   "source": [
    "# Test of model correctness\n",
    "max_n_test_instances = 5\n",
    "i = 1\n",
    "for  inputs, labels in valid_iterator:\n",
    "  score = model_LR(inputs.to(device))\n",
    "  print(score)\n",
    "  if i >= max_n_test_instances:\n",
    "    break\n",
    "  else:\n",
    "    i += 1\n"
   ]
  },
  {
   "cell_type": "code",
   "execution_count": null,
   "metadata": {},
   "outputs": [
    {
     "data": {
      "image/png": "[encoded data removed]",
      "text/plain": [
       "<Figure size 640x480 with 1 Axes>"
      ]
     },
     "metadata": {},
     "output_type": "display_data"
    }
   ],
   "source": [
    "# plot for compare training time\n",
    "import matplotlib.pyplot as plt\n",
    "\n",
    "# acc_list = [(5,10), (16,20), (32,30), (64,40), (128,50)]  \n",
    "values = [] # List of values\n",
    "x_labels = [] # Names for each data point\n",
    "for item in time_list_LR:\n",
    "    x_labels.append(str(item[0]))\n",
    "    values.append(item[1])\n",
    "\n",
    "# Creating the bar chart\n",
    "plt.bar(x_labels, values)\n",
    "\n",
    "# Adding title and labels\n",
    "plt.title('Training Time For Different Batch Size')\n",
    "plt.xlabel('Batch Size')\n",
    "plt.ylabel('Seconds')\n",
    "\n",
    "# Show the plot\n",
    "plt.show()"
   ]
  },
  {
   "cell_type": "code",
   "execution_count": null,
   "metadata": {},
   "outputs": [
    {
     "data": {
      "image/png": "[encoded data removed]",
      "text/plain": [
       "<Figure size 640x480 with 1 Axes>"
      ]
     },
     "metadata": {},
     "output_type": "display_data"
    }
   ],
   "source": [
    "# plot for compare accuracy\n",
    "import matplotlib.pyplot as plt\n",
    "\n",
    "# acc_list = [(5,10), (16,20), (32,30), (64,40), (128,50)]  \n",
    "values = [] # List of values\n",
    "x_labels = [] # Names for each data point\n",
    "for item in acc_list_LR:\n",
    "    x_labels.append(str(item[0]))\n",
    "    values.append(item[1])\n",
    "\n",
    "# Creating the bar chart\n",
    "plt.bar(x_labels, values)\n",
    "\n",
    "# Adding title and labels\n",
    "plt.title('Accuracy For Different Batch Size')\n",
    "plt.xlabel('Batch Size')\n",
    "plt.ylabel('Percentage')\n",
    "\n",
    "# Show the plot\n",
    "plt.show()"
   ]
  },
  {
   "cell_type": "code",
   "execution_count": null,
   "metadata": {},
   "outputs": [
    {
     "data": {
      "image/png": "[encoded data removed]",
      "text/plain": [
       "<Figure size 640x480 with 1 Axes>"
      ]
     },
     "metadata": {},
     "output_type": "display_data"
    }
   ],
   "source": [
    "# plot for compare learning rate\n",
    "import matplotlib.pyplot as plt\n",
    "\n",
    "# acc_list = [(5,10), (16,20), (32,30), (64,40), (128,50)]  \n",
    "values = [] # List of values\n",
    "x_labels = [] # Names for each data point\n",
    "for item in acc_list_lr_LR:\n",
    "    x_labels.append(str(item[0]))\n",
    "    values.append(item[1])\n",
    "\n",
    "# Creating the bar chart\n",
    "plt.bar(x_labels, values)\n",
    "\n",
    "# Adding title and labels\n",
    "plt.title('Accuracy For Different Learning Rate')\n",
    "plt.xlabel('Learning Rate')\n",
    "plt.ylabel('Percentage')\n",
    "\n",
    "# Show the plot\n",
    "plt.show()"
   ]
  },
  {
   "cell_type": "code",
   "execution_count": null,
   "metadata": {},
   "outputs": [],
   "source": [
    "import csv\n",
    "import pandas as pd\n",
    "with open('predictions_val.csv', 'w', newline='') as file:\n",
    "    writer = csv.writer(file)\n",
    "    for pred in final_valid_prediction:\n",
    "        writer.writerow([pred])\n",
    "with open('predictions_test.csv', 'w', newline='') as file:\n",
    "    writer = csv.writer(file)\n",
    "    for pred in test_prediction:\n",
    "        writer.writerow([pred])\n",
    "        \n",
    "df = pd.DataFrame({'Predicted': final_valid_prediction, 'Ground Truth': final_labels})\n",
    "df.to_csv('predictions_val_comparism.csv', index=False)"
   ]
  },
  {
   "cell_type": "code",
   "execution_count": 82,
   "metadata": {},
   "outputs": [],
   "source": [
    "comment_text_val=[]\n",
    "for i in dev_list:\n",
    "    comment_text_val.append(i[1])"
   ]
  },
  {
   "cell_type": "code",
   "execution_count": 83,
   "metadata": {},
   "outputs": [],
   "source": [
    "df = pd.DataFrame({'Comment':comment_text_val,'Predicted': final_valid_prediction})\n",
    "df.to_csv('predictions_val.csv', index=False)\n",
    "\n",
    "df = pd.DataFrame({'Comment':comment_text_test,'Predicted': test_prediction})\n",
    "df.to_csv('predictions_test.csv', index=False)"
   ]
  }
 ],
 "metadata": {
  "accelerator": "GPU",
  "colab": {
   "gpuType": "T4",
   "provenance": []
  },
  "kernelspec": {
   "display_name": "Python 3",
   "language": "python",
   "name": "python3"
  },
  "language_info": {
   "codemirror_mode": {
    "name": "ipython",
    "version": 3
   },
   "file_extension": ".py",
   "mimetype": "text/x-python",
   "name": "python",
   "nbconvert_exporter": "python",
   "pygments_lexer": "ipython3",
   "version": "3.11.5"
  }
 },
 "nbformat": 4,
 "nbformat_minor": 4
}
