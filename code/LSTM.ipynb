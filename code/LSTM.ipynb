{
 "cells": [
  {
   "cell_type": "code",
   "execution_count": 1,
   "metadata": {},
   "outputs": [],
   "source": [
    "import torch\n",
    "import torchtext\n",
    "import random\n",
    "from torchtext.datasets import IMDB\n",
    "from torchtext.data.utils import get_tokenizer\n",
    "from collections import Counter\n",
    "from torchtext.vocab import vocab\n",
    "from collections import Counter, OrderedDict\n",
    "from torchtext.vocab import build_vocab_from_iterator\n",
    "from torch.utils.data import DataLoader\n",
    "from torch.nn.utils.rnn import pad_sequence\n",
    "import torch.nn as nn\n",
    "import torch.nn.functional as F\n",
    "import torch.optim as optim\n",
    "from tqdm import tqdm"
   ]
  },
  {
   "cell_type": "code",
   "execution_count": 17,
   "metadata": {},
   "outputs": [],
   "source": [
    "hyper_parameter={\n",
    "    'batch_size' : 16, #5,16,32,64,128\n",
    "    'learning_rate' : 1e-3, #1e-1,1e-3,1e-5,1e-7,1e-9\n",
    "    'N_EPOCHS' : 5,\n",
    "}"
   ]
  },
  {
   "cell_type": "code",
   "execution_count": 3,
   "metadata": {},
   "outputs": [
    {
     "name": "stderr",
     "output_type": "stream",
     "text": [
      "/home/cliu282/miniconda3/lib/python3.11/site-packages/torch/cuda/__init__.py:611: UserWarning: Can't initialize NVML\n",
      "  warnings.warn(\"Can't initialize NVML\")\n"
     ]
    }
   ],
   "source": [
    "train_iter = IMDB(split='train')\n",
    "tokenizer = get_tokenizer('spacy', language='en_core_web_sm')\n",
    "\n",
    "def yield_tokens_batch(train_iter):\n",
    "    for (label, line) in train_iter:\n",
    "      yield tokenizer(line)\n",
    "voc = build_vocab_from_iterator(yield_tokens_batch(train_iter), min_freq =3, specials=[\"<PAD>\",\"<unk>\"])\n",
    "voc.set_default_index(voc['<unk>'])\n",
    "# label_transform = lambda x: 1 if x == 'pos' else 0\n",
    "label_transform = lambda x: 1 if x == 2 else 0\n",
    "text_transform = lambda x: [voc[token] for token in tokenizer(x)]"
   ]
  },
  {
   "cell_type": "code",
   "execution_count": 4,
   "metadata": {},
   "outputs": [],
   "source": [
    "import numpy as np\n",
    "train_iter = IMDB(split='train')\n",
    "test_iter = IMDB(split='test')\n",
    "train_list = list(train_iter)\n",
    "random.shuffle(train_list)\n",
    "\n",
    "dev_list = train_list[:7500]\n",
    "devfile = open(\"dev.txt\", \"w\")\n",
    "for element in dev_list:\n",
    "    devfile.write(str(element[1]) + str(element[0])+\"\\n\")\n",
    "devfile.close()\n",
    "\n",
    "test_list = list(test_iter)\n",
    "testfile = open(\"test.txt\", \"w\")\n",
    "for element in test_list:\n",
    "    testfile.write(str(element[1])+ str(element[0]) + \"\\n\")\n",
    "testfile.close()\n",
    "\n",
    "train_list = train_list[7500:]"
   ]
  },
  {
   "cell_type": "code",
   "execution_count": 5,
   "metadata": {},
   "outputs": [],
   "source": [
    "def collate_batch(batch):\n",
    "   label_list, text_list = [], []\n",
    "    # change this thing to be the size per batch\n",
    "   max_len = 50\n",
    "   for (_label, _text) in batch:\n",
    "        label_list.append(label_transform(_label))\n",
    "        processed_text = torch.LongTensor(text_transform(_text))\n",
    "        # processed_text = nn.ConstantPad1d((0, max_len - processed_text.shape[0]), 0)(processed_text)\n",
    "        text_list.append(processed_text)\n",
    "\n",
    "    # change the padding value (e.g., 0)\n",
    "   return   pad_sequence(text_list, padding_value=0),torch.LongTensor(label_list)"
   ]
  },
  {
   "cell_type": "code",
   "execution_count": 19,
   "metadata": {},
   "outputs": [
    {
     "name": "stdout",
     "output_type": "stream",
     "text": [
      "Number of training examples: 1093\n",
      "Number of dev examples: 468\n",
      "Number of test examples: 1562\n"
     ]
    }
   ],
   "source": [
    "#5,16,32,64,128\n",
    "batch_size = hyper_parameter['batch_size']\n",
    "\n",
    "train_iterator = DataLoader(train_list, batch_size, shuffle=True,\n",
    "                              collate_fn=collate_batch, drop_last=True)\n",
    "valid_iterator = DataLoader(dev_list, batch_size, shuffle=False,\n",
    "                              collate_fn=collate_batch, drop_last=True)\n",
    "test_iterator = DataLoader(test_list, batch_size, shuffle=False,\n",
    "                              collate_fn=collate_batch, drop_last=True)\n",
    "print(f'Number of training examples: {len(train_iterator)}')\n",
    "print(f'Number of dev examples: {len(valid_iterator)}')\n",
    "print(f'Number of test examples: {len(test_iterator)}')"
   ]
  },
  {
   "cell_type": "code",
   "execution_count": 7,
   "metadata": {},
   "outputs": [
    {
     "name": "stdout",
     "output_type": "stream",
     "text": [
      "GPU is available\n"
     ]
    },
    {
     "data": {
      "text/plain": [
       "device(type='cuda', index=3)"
      ]
     },
     "execution_count": 7,
     "metadata": {},
     "output_type": "execute_result"
    }
   ],
   "source": [
    "is_cuda = torch.cuda.is_available()\n",
    "\n",
    "# If we have a GPU available, we'll set our device to GPU. We'll use this device variable later in our code.\n",
    "if is_cuda:\n",
    "    device = torch.device(\"cuda\")\n",
    "    print(\"GPU is available\")\n",
    "else:\n",
    "    device = torch.device(\"cpu\")\n",
    "    print(\"GPU not available, CPU used\")\n",
    "device\n",
    "\n",
    "device = torch.device('cuda:3' if torch.cuda.is_available() else 'cpu')\n",
    "# device = 'cpu'\n",
    "device"
   ]
  },
  {
   "cell_type": "code",
   "execution_count": 8,
   "metadata": {},
   "outputs": [],
   "source": [
    "def count_parameters(model):\n",
    "    return sum(p.numel() for p in model.parameters() if p.requires_grad)\n"
   ]
  },
  {
   "cell_type": "code",
   "execution_count": 9,
   "metadata": {},
   "outputs": [],
   "source": [
    "def binary_accuracy(preds, y):\n",
    "    \"\"\"\n",
    "    Returns accuracy per batch, i.e. if you get 8/10 right, this returns 0.8, NOT 8\n",
    "    \"\"\"\n",
    "\n",
    "    #round predictions to the closest integer\n",
    "    rounded_preds = torch.round(torch.sigmoid(preds))\n",
    "    correct = (rounded_preds == y).float() #convert into float for division\n",
    "    acc = correct.sum() / len(correct)\n",
    "    return acc"
   ]
  },
  {
   "cell_type": "code",
   "execution_count": 10,
   "metadata": {},
   "outputs": [],
   "source": [
    "from tqdm import tqdm\n",
    "def train(model, iterator, optimizer, criterion):\n",
    "\n",
    "    epoch_loss = 0\n",
    "    epoch_acc = 0\n",
    "\n",
    "    model.train()\n",
    "\n",
    "    for inputs, labels in tqdm(iterator):\n",
    "\n",
    "        optimizer.zero_grad()\n",
    "\n",
    "        predictions = model(inputs.to(device)).squeeze(1).to(device)\n",
    "        # predictions = model(inputs.to(device)).to(device)\n",
    "\n",
    "        loss = criterion(predictions,labels.float().to(device)).to(device)\n",
    "\n",
    "        acc = binary_accuracy(predictions, labels.float().to(device))\n",
    "\n",
    "        loss.backward()\n",
    "\n",
    "        optimizer.step()\n",
    "\n",
    "        epoch_loss += loss.item()\n",
    "        epoch_acc += acc.item()\n",
    "\n",
    "    return epoch_loss / len(iterator), epoch_acc / len(iterator)\n",
    "\n",
    "def evaluate(model, iterator, criterion):\n",
    "\n",
    "    epoch_loss = 0\n",
    "    epoch_acc = 0\n",
    "    all_prediction = []\n",
    "    all_labels = []\n",
    "\n",
    "    model.eval()\n",
    "\n",
    "    with torch.no_grad():\n",
    "        for  inputs, labels in iterator:\n",
    "\n",
    "            predictions = model(inputs.to(device)).squeeze(1).to(device)\n",
    "            # predictions = model(inputs.to(device)).to(device)\n",
    "\n",
    "            loss = criterion(predictions,labels.float().to(device)).to(device)\n",
    "\n",
    "            acc = binary_accuracy(predictions, labels.float().to(device))\n",
    "\n",
    "            epoch_loss += loss.item()\n",
    "            epoch_acc += acc.item()\n",
    "            # predictions = predictions.round().cpu().numpy()\n",
    "            rounded_preds = torch.round(torch.sigmoid(predictions)).cpu().numpy().astype(int)\n",
    "            all_prediction.extend(rounded_preds)\n",
    "            all_labels.extend(labels.cpu().numpy())\n",
    "\n",
    "    return epoch_loss / len(iterator), epoch_acc / len(iterator), all_prediction, all_labels"
   ]
  },
  {
   "cell_type": "code",
   "execution_count": 11,
   "metadata": {},
   "outputs": [],
   "source": [
    "import time\n",
    "\n",
    "def epoch_time(start_time, end_time):\n",
    "    elapsed_time = end_time - start_time\n",
    "    elapsed_mins = int(elapsed_time / 60)\n",
    "    elapsed_secs = int(elapsed_time - (elapsed_mins * 60))\n",
    "    return elapsed_mins, elapsed_secs, elapsed_time"
   ]
  },
  {
   "cell_type": "code",
   "execution_count": 12,
   "metadata": {},
   "outputs": [],
   "source": [
    "from torch.nn.utils.rnn import pack_padded_sequence, pad_packed_sequence\n",
    "from torch import sum as tensor_sum\n",
    "# class LSTM(nn.Module):\n",
    "#     def __init__(self, input_dim, embedding_dim, hidden_dim, output_dim, padding_idx):\n",
    "#         super().__init__()\n",
    "#         self.embedding = nn.Embedding(input_dim, embedding_dim, padding_idx=padding_idx)\n",
    "        \n",
    "#         # Define LSTM layer\n",
    "#         self.lstm = nn.LSTM(embedding_dim, hidden_dim)\n",
    "        \n",
    "#         # Define a fully connected layer that maps from hidden state space to output space\n",
    "#         self.fc = nn.Linear(hidden_dim, output_dim)\n",
    "\n",
    "#     def forward(self, text):\n",
    "#         # text: [seq_len, batch_size]\n",
    "        \n",
    "#         embedded = self.embedding(text)  # embedded: [seq_len, batch_size, embedding_dim]\n",
    "\n",
    "#         # LSTM output: output, (hidden state, cell state)\n",
    "#         output, (hidden, cell) = self.lstm(embedded)  # hidden: [1, batch_size, hidden_dim]\n",
    "\n",
    "#         # Use the last hidden state for the fully connected layer\n",
    "#         hidden = hidden.squeeze(0)  # hidden: [batch_size, hidden_dim]\n",
    "\n",
    "#         return self.fc(hidden)\n",
    "\n",
    "# LSTM implementation\n",
    "class LSTM(nn.Module):\n",
    "\n",
    "    def __init__(self, input_dim, pad_index, embedding_dim, batch_size, hidden_size=100, bidirectional=False, num_layers=2, dropout_p=0.1, pre_trained_embeddings=None, tunable_pre_trained_embedding=False):\n",
    "        super(LSTM, self).__init__()\n",
    "\n",
    "        self.pad_index = pad_index\n",
    "\n",
    "        self.bidirectional = bidirectional\n",
    "        self.num_directions = 1 if not self.bidirectional else 2\n",
    "        self.hidden_size = hidden_size\n",
    "        self.dropout_p = dropout_p\n",
    "        self.num_layers = num_layers\n",
    "        self.embedding_dim = embedding_dim\n",
    "        self.batch_size = batch_size\n",
    "        self.input_dim=input_dim\n",
    "        self.pre_trained_embeddings = pre_trained_embeddings\n",
    "        self.tunable_pre_trained_embedding = tunable_pre_trained_embedding if self.pre_trained_embeddings is not None else False\n",
    "        # add learnable embedding + frozen embedding or just frozen embedding\n",
    "        self.embedding = nn.Embedding(input_dim, embedding_dim, padding_idx=pad_index)\n",
    "        self.dropout = nn.Dropout(dropout_p)\n",
    "        embeddingSize = 2 if self.pre_trained_embeddings is not None and self.tunable_pre_trained_embedding else 1\n",
    "        self.lstm = nn.LSTM(\n",
    "            bidirectional=bidirectional,\n",
    "            input_size=embedding_dim,  # Adjust according to your embedding setup\n",
    "            hidden_size=hidden_size,\n",
    "            num_layers=num_layers,\n",
    "            batch_first=True,\n",
    "            dropout=dropout_p if num_layers > 1 else 0,\n",
    "            \n",
    "        )\n",
    "        self.fc1 = nn.Linear(self.hidden_size*self.num_directions, self.embedding_dim, bias=False)\n",
    "        self.fc2 = nn.Linear(self.embedding_dim, self.input_dim, bias=False)\n",
    "\n",
    "    def init_hidden(self, batch_size):\n",
    "        # Initialize hidden and cell states with zeros\n",
    "        h_0 = torch.zeros(self.num_layers * self.num_directions, batch_size, self.hidden_size).to(device)\n",
    "        c_0 = torch.zeros(self.num_layers * self.num_directions, batch_size, self.hidden_size).to(device)\n",
    "        return (h_0, c_0)\n",
    "\n",
    "    def forward(self, x):\n",
    "        lengths=x.shape[0]-tensor_sum(x==0,dim=0).squeeze().cpu()\n",
    "        hidden = self.init_hidden(x.size(0))\n",
    "\n",
    "        if self.pre_trained_embeddings is not None:\n",
    "            embed_frozen = self.embedding(x)\n",
    "            if self.tunable_pre_trained_embedding:\n",
    "                embed_tunable = self.tunable_embedding(x)\n",
    "                embed = self.dropout(torch.cat((embed_tunable, embed_frozen), dim=2))\n",
    "            else:\n",
    "                embed = self.dropout(embed_frozen)\n",
    "        else:\n",
    "            embed = self.dropout(self.embedding(x))\n",
    "        packed_input = nn.utils.rnn.pack_padded_sequence(embed, lengths, batch_first=False, enforce_sorted=False)\n",
    "        output, (h_n, c_n) = self.lstm(packed_input, hidden)\n",
    "        seq_unpacked, _ = nn.utils.rnn.pad_packed_sequence(output, batch_first=True, padding_value=self.pad_index) # pack the outputs to a padded matrix to feed to FFN\n",
    "        decoded = self.fc1(seq_unpacked)\n",
    "        decoded = self.dropout(decoded)\n",
    "        decoded = self.fc2(decoded)\n",
    "        # logits = F.log_softmax(decoded, dim=-1) # get the highest prob to predict next word\n",
    "        return decoded\n",
    "    \n",
    "class LSTMClassifier(nn.Module):\n",
    "    def __init__(self, vocab_size, embedding_dim, hidden_dim, output_dim, padding_idx):\n",
    "        super(LSTMClassifier, self).__init__()\n",
    "        self.embedding = nn.Embedding(vocab_size, embedding_dim, padding_idx=padding_idx)\n",
    "        self.lstm = nn.LSTM(embedding_dim, hidden_dim, batch_first=True)\n",
    "        self.fc = nn.Linear(hidden_dim, output_dim)\n",
    "\n",
    "    def forward(self, text):\n",
    "        text_lengths=text.shape[0]-tensor_sum(text==0,dim=0).squeeze().cpu()\n",
    "        # text: [batch_size, seq_len]\n",
    "        embedded = self.embedding(text)  # embedded: [batch_size, seq_len, embedding_dim]\n",
    "\n",
    "        # Pack sequence\n",
    "        packed_embedded = pack_padded_sequence(embedded, text_lengths, batch_first=False, enforce_sorted=False)\n",
    "        \n",
    "        # LSTM output\n",
    "        packed_output, (hidden, cell) = self.lstm(packed_embedded)\n",
    "\n",
    "        # Unpack sequence\n",
    "        output, _ = pad_packed_sequence(packed_output, batch_first=True)\n",
    "\n",
    "        # Average pooling\n",
    "        avg_pool = torch.mean(output, dim=1)\n",
    "\n",
    "        # Feedforward network\n",
    "        return self.fc(avg_pool)"
   ]
  },
  {
   "cell_type": "code",
   "execution_count": 13,
   "metadata": {},
   "outputs": [
    {
     "name": "stdout",
     "output_type": "stream",
     "text": [
      "0\n",
      "The LSTM model has 15,154,949 trainable parameters\n"
     ]
    }
   ],
   "source": [
    "INPUT_DIM = voc.__len__()\n",
    "EMBEDDING_DIM = 300\n",
    "HIDDEN_DIM = 256\n",
    "OUTPUT_DIM = 1\n",
    "PAD_IDX = voc.__getitem__('<PAD>')\n",
    "print(PAD_IDX)\n",
    "# model_LSTM = LSTM(INPUT_DIM,EMBEDDING_DIM,HIDDEN_DIM,OUTPUT_DIM,PAD_IDX)\n",
    "# model_LSTM = LSTM(\n",
    "#     input_dim=INPUT_DIM,\n",
    "#     pad_index=PAD_IDX,\n",
    "#     embedding_dim=EMBEDDING_DIM,\n",
    "#     batch_size=hyper_parameter['batch_size'],\n",
    "#     hidden_size=HIDDEN_DIM,\n",
    "#     bidirectional=True,\n",
    "#     num_layers=2,\n",
    "#     dropout_p=0.3,\n",
    "# )\n",
    "model_LSTM = LSTMClassifier(INPUT_DIM,EMBEDDING_DIM,HIDDEN_DIM,OUTPUT_DIM,PAD_IDX)\n",
    "print(f'The LSTM model has {count_parameters(model_LSTM):,} trainable parameters')\n",
    "# optimizer = optim.SGD(model_LSTM.parameters(), lr=hyper_parameter['learning_rate'])\n",
    "optimizer = optim.Adam(model_LSTM.parameters(), lr=hyper_parameter['learning_rate'])\n",
    "criterion_LSTM = nn.BCEWithLogitsLoss()\n",
    "model_LSTM = model_LSTM.to(device)\n",
    "criterion_LSTM = criterion_LSTM.to(device)\n",
    "time_list_LSTM = []\n",
    "acc_list_LSTM = []\n",
    "acc_list_lr_LSTM = []"
   ]
  },
  {
   "cell_type": "code",
   "execution_count": 20,
   "metadata": {},
   "outputs": [
    {
     "name": "stderr",
     "output_type": "stream",
     "text": [
      "100%|██████████| 1093/1093 [01:17<00:00, 14.03it/s]\n"
     ]
    },
    {
     "name": "stdout",
     "output_type": "stream",
     "text": [
      "Epoch: 01 | Epoch Time: 1m 27s\n",
      "\tTrain Loss: 0.173 | Train Acc: 93.94%\n",
      "\t Val. Loss: 0.320 |  Val. Acc: 88.47%\n"
     ]
    },
    {
     "name": "stderr",
     "output_type": "stream",
     "text": [
      "100%|██████████| 1093/1093 [01:16<00:00, 14.28it/s]\n"
     ]
    },
    {
     "name": "stdout",
     "output_type": "stream",
     "text": [
      "Epoch: 02 | Epoch Time: 1m 25s\n",
      "\tTrain Loss: 0.073 | Train Acc: 97.82%\n",
      "\t Val. Loss: 0.339 |  Val. Acc: 88.34%\n"
     ]
    },
    {
     "name": "stderr",
     "output_type": "stream",
     "text": [
      "100%|██████████| 1093/1093 [01:14<00:00, 14.70it/s]\n"
     ]
    },
    {
     "name": "stdout",
     "output_type": "stream",
     "text": [
      "Epoch: 03 | Epoch Time: 1m 23s\n",
      "\tTrain Loss: 0.037 | Train Acc: 99.15%\n",
      "\t Val. Loss: 0.533 |  Val. Acc: 87.98%\n"
     ]
    },
    {
     "name": "stderr",
     "output_type": "stream",
     "text": [
      "100%|██████████| 1093/1093 [01:10<00:00, 15.46it/s]\n"
     ]
    },
    {
     "name": "stdout",
     "output_type": "stream",
     "text": [
      "Epoch: 04 | Epoch Time: 1m 20s\n",
      "\tTrain Loss: 0.020 | Train Acc: 99.51%\n",
      "\t Val. Loss: 0.669 |  Val. Acc: 87.71%\n"
     ]
    },
    {
     "name": "stderr",
     "output_type": "stream",
     "text": [
      "100%|██████████| 1093/1093 [01:15<00:00, 14.49it/s]\n"
     ]
    },
    {
     "name": "stdout",
     "output_type": "stream",
     "text": [
      "Epoch: 05 | Epoch Time: 1m 24s\n",
      "\tTrain Loss: 0.011 | Train Acc: 99.79%\n",
      "\t Val. Loss: 0.667 |  Val. Acc: 87.81%\n"
     ]
    }
   ],
   "source": [
    "torch.cuda.empty_cache()\n",
    "\n",
    "N_EPOCHS = hyper_parameter['N_EPOCHS']\n",
    "\n",
    "best_valid_loss = float('inf')\n",
    "\n",
    "total_time=0\n",
    "last_val_acc=0\n",
    "last_val_acc_lr=0\n",
    "final_valid_prediction=[]\n",
    "final_labels = []\n",
    "\n",
    "for epoch in range(N_EPOCHS):\n",
    "\n",
    "    start_time = time.time()\n",
    "\n",
    "    train_loss, train_acc = train(model_LSTM, train_iterator, optimizer, criterion_LSTM)\n",
    "    valid_loss, valid_acc, valid_prediction, all_labels = evaluate(model_LSTM, valid_iterator, criterion_LSTM)\n",
    "\n",
    "    end_time = time.time()\n",
    "\n",
    "    epoch_mins, epoch_secs, epoch_total_time = epoch_time(start_time, end_time)\n",
    "\n",
    "    if valid_loss < best_valid_loss:\n",
    "        best_valid_loss = valid_loss\n",
    "        torch.save(model_LSTM.state_dict(), 'model_LSTM.pt')\n",
    "\n",
    "    print(f'Epoch: {epoch+1:02} | Epoch Time: {epoch_mins}m {epoch_secs}s')\n",
    "    print(f'\\tTrain Loss: {train_loss:.3f} | Train Acc: {train_acc*100:.2f}%')\n",
    "    print(f'\\t Val. Loss: {valid_loss:.3f} |  Val. Acc: {valid_acc*100:.2f}%')\n",
    "    total_time=total_time+epoch_total_time\n",
    "    # average_time=total_time/N_EPOCHS\n",
    "    if epoch == N_EPOCHS - 1:\n",
    "        last_val_acc=round(valid_acc * 100, 2)\n",
    "        final_valid_prediction=valid_prediction\n",
    "        final_labels = all_labels\n",
    "        \n",
    "time_tuple=(batch_size,total_time)\n",
    "acc_tuple=(batch_size,last_val_acc)\n",
    "acc_tuple_lr=(hyper_parameter['learning_rate'],last_val_acc)\n",
    "time_list_LSTM.append(time_tuple)\n",
    "acc_list_LSTM.append(acc_tuple)\n",
    "acc_list_lr_LSTM.append(acc_tuple_lr)"
   ]
  },
  {
   "cell_type": "code",
   "execution_count": 21,
   "metadata": {},
   "outputs": [
    {
     "name": "stdout",
     "output_type": "stream",
     "text": [
      "Test Loss: 0.367 | Test Acc: 86.78%\n"
     ]
    }
   ],
   "source": [
    "model_LSTM.load_state_dict(torch.load('model_LSTM.pt'))\n",
    "comment_text_test=[]\n",
    "for i in test_list:\n",
    "    comment_text_test.append(i[1])\n",
    "\n",
    "test_loss, test_acc, test_prediction, test_lables = evaluate(model_LSTM, test_iterator, criterion_LSTM)\n",
    "\n",
    "print(f'Test Loss: {test_loss:.3f} | Test Acc: {test_acc*100:.2f}%')"
   ]
  },
  {
   "cell_type": "code",
   "execution_count": null,
   "metadata": {},
   "outputs": [
    {
     "data": {
      "image/png": "[encoded data removed]",
      "text/plain": [
       "<Figure size 640x480 with 1 Axes>"
      ]
     },
     "metadata": {},
     "output_type": "display_data"
    }
   ],
   "source": [
    "# plot for compare training time\n",
    "import matplotlib.pyplot as plt\n",
    "\n",
    "# acc_list = [(5,10), (16,20), (32,30), (64,40), (128,50)]  \n",
    "values = [] # List of values\n",
    "x_labels = [] # Names for each data point\n",
    "for item in time_list_LSTM:\n",
    "    x_labels.append(str(item[0]))\n",
    "    values.append(item[1])\n",
    "\n",
    "# Creating the bar chart\n",
    "plt.bar(x_labels, values)\n",
    "\n",
    "# Adding title and labels\n",
    "plt.title('Training Time For Different Batch Size')\n",
    "plt.xlabel('Batch Size')\n",
    "plt.ylabel('Seconds')\n",
    "\n",
    "# Show the plot\n",
    "plt.show()"
   ]
  },
  {
   "cell_type": "code",
   "execution_count": null,
   "metadata": {},
   "outputs": [
    {
     "data": {
      "image/png": "[encoded data removed]",
      "text/plain": [
       "<Figure size 640x480 with 1 Axes>"
      ]
     },
     "metadata": {},
     "output_type": "display_data"
    }
   ],
   "source": [
    "# plot for compare accuracy\n",
    "import matplotlib.pyplot as plt\n",
    "\n",
    "# acc_list = [(5,10), (16,20), (32,30), (64,40), (128,50)]  \n",
    "values = [] # List of values\n",
    "x_labels = [] # Names for each data point\n",
    "for item in acc_list_LSTM:\n",
    "    x_labels.append(str(item[0]))\n",
    "    values.append(item[1])\n",
    "\n",
    "# Creating the bar chart\n",
    "plt.bar(x_labels, values)\n",
    "\n",
    "# Adding title and labels\n",
    "plt.title('Accuracy For Different Batch Size')\n",
    "plt.xlabel('Batch Size')\n",
    "plt.ylabel('Percentage')\n",
    "\n",
    "# Show the plot\n",
    "plt.show()"
   ]
  },
  {
   "cell_type": "code",
   "execution_count": null,
   "metadata": {},
   "outputs": [
    {
     "data": {
      "image/png": "[encoded data removed]",
      "text/plain": [
       "<Figure size 640x480 with 1 Axes>"
      ]
     },
     "metadata": {},
     "output_type": "display_data"
    }
   ],
   "source": [
    "# plot for compare learning rate\n",
    "import matplotlib.pyplot as plt\n",
    "\n",
    "# acc_list = [(5,10), (16,20), (32,30), (64,40), (128,50)]  \n",
    "values = [] # List of values\n",
    "x_labels = [] # Names for each data point\n",
    "for item in acc_list_lr_LSTM:\n",
    "    x_labels.append(str(item[0]))\n",
    "    values.append(item[1])\n",
    "\n",
    "# Creating the bar chart\n",
    "plt.bar(x_labels, values)\n",
    "\n",
    "# Adding title and labels\n",
    "plt.title('Accuracy For Different Learning Rate')\n",
    "plt.xlabel('Learning Rate')\n",
    "plt.ylabel('Percentage')\n",
    "\n",
    "# Show the plot\n",
    "plt.show()"
   ]
  },
  {
   "cell_type": "code",
   "execution_count": 23,
   "metadata": {},
   "outputs": [
    {
     "data": {
      "text/plain": [
       "7488"
      ]
     },
     "execution_count": 23,
     "metadata": {},
     "output_type": "execute_result"
    }
   ],
   "source": [
    "len(final_valid_prediction)"
   ]
  },
  {
   "cell_type": "code",
   "execution_count": 22,
   "metadata": {},
   "outputs": [
    {
     "ename": "ValueError",
     "evalue": "All arrays must be of the same length",
     "output_type": "error",
     "traceback": [
      "\u001b[0;31m---------------------------------------------------------------------------\u001b[0m",
      "\u001b[0;31mValueError\u001b[0m                                Traceback (most recent call last)",
      "Cell \u001b[0;32mIn[22], line 6\u001b[0m\n\u001b[1;32m      4\u001b[0m \u001b[38;5;28;01mfor\u001b[39;00m i \u001b[38;5;129;01min\u001b[39;00m dev_list:\n\u001b[1;32m      5\u001b[0m     comment_text_val\u001b[38;5;241m.\u001b[39mappend(i[\u001b[38;5;241m1\u001b[39m])\n\u001b[0;32m----> 6\u001b[0m df \u001b[38;5;241m=\u001b[39m \u001b[43mpd\u001b[49m\u001b[38;5;241;43m.\u001b[39;49m\u001b[43mDataFrame\u001b[49m\u001b[43m(\u001b[49m\u001b[43m{\u001b[49m\u001b[38;5;124;43m'\u001b[39;49m\u001b[38;5;124;43mComment\u001b[39;49m\u001b[38;5;124;43m'\u001b[39;49m\u001b[43m:\u001b[49m\u001b[43mcomment_text_val\u001b[49m\u001b[43m,\u001b[49m\u001b[38;5;124;43m'\u001b[39;49m\u001b[38;5;124;43mPredicted\u001b[39;49m\u001b[38;5;124;43m'\u001b[39;49m\u001b[43m:\u001b[49m\u001b[43m \u001b[49m\u001b[43mfinal_valid_prediction\u001b[49m\u001b[43m}\u001b[49m\u001b[43m)\u001b[49m\n\u001b[1;32m      7\u001b[0m df\u001b[38;5;241m.\u001b[39mto_csv(\u001b[38;5;124m'\u001b[39m\u001b[38;5;124mpredictions_val.csv\u001b[39m\u001b[38;5;124m'\u001b[39m, index\u001b[38;5;241m=\u001b[39m\u001b[38;5;28;01mFalse\u001b[39;00m)\n\u001b[1;32m      9\u001b[0m df \u001b[38;5;241m=\u001b[39m pd\u001b[38;5;241m.\u001b[39mDataFrame({\u001b[38;5;124m'\u001b[39m\u001b[38;5;124mComment\u001b[39m\u001b[38;5;124m'\u001b[39m:comment_text_test,\u001b[38;5;124m'\u001b[39m\u001b[38;5;124mPredicted\u001b[39m\u001b[38;5;124m'\u001b[39m: test_prediction})\n",
      "File \u001b[0;32m~/miniconda3/lib/python3.11/site-packages/pandas/core/frame.py:733\u001b[0m, in \u001b[0;36mDataFrame.__init__\u001b[0;34m(self, data, index, columns, dtype, copy)\u001b[0m\n\u001b[1;32m    727\u001b[0m     mgr \u001b[38;5;241m=\u001b[39m \u001b[38;5;28mself\u001b[39m\u001b[38;5;241m.\u001b[39m_init_mgr(\n\u001b[1;32m    728\u001b[0m         data, axes\u001b[38;5;241m=\u001b[39m{\u001b[38;5;124m\"\u001b[39m\u001b[38;5;124mindex\u001b[39m\u001b[38;5;124m\"\u001b[39m: index, \u001b[38;5;124m\"\u001b[39m\u001b[38;5;124mcolumns\u001b[39m\u001b[38;5;124m\"\u001b[39m: columns}, dtype\u001b[38;5;241m=\u001b[39mdtype, copy\u001b[38;5;241m=\u001b[39mcopy\n\u001b[1;32m    729\u001b[0m     )\n\u001b[1;32m    731\u001b[0m \u001b[38;5;28;01melif\u001b[39;00m \u001b[38;5;28misinstance\u001b[39m(data, \u001b[38;5;28mdict\u001b[39m):\n\u001b[1;32m    732\u001b[0m     \u001b[38;5;66;03m# GH#38939 de facto copy defaults to False only in non-dict cases\u001b[39;00m\n\u001b[0;32m--> 733\u001b[0m     mgr \u001b[38;5;241m=\u001b[39m \u001b[43mdict_to_mgr\u001b[49m\u001b[43m(\u001b[49m\u001b[43mdata\u001b[49m\u001b[43m,\u001b[49m\u001b[43m \u001b[49m\u001b[43mindex\u001b[49m\u001b[43m,\u001b[49m\u001b[43m \u001b[49m\u001b[43mcolumns\u001b[49m\u001b[43m,\u001b[49m\u001b[43m \u001b[49m\u001b[43mdtype\u001b[49m\u001b[38;5;241;43m=\u001b[39;49m\u001b[43mdtype\u001b[49m\u001b[43m,\u001b[49m\u001b[43m \u001b[49m\u001b[43mcopy\u001b[49m\u001b[38;5;241;43m=\u001b[39;49m\u001b[43mcopy\u001b[49m\u001b[43m,\u001b[49m\u001b[43m \u001b[49m\u001b[43mtyp\u001b[49m\u001b[38;5;241;43m=\u001b[39;49m\u001b[43mmanager\u001b[49m\u001b[43m)\u001b[49m\n\u001b[1;32m    734\u001b[0m \u001b[38;5;28;01melif\u001b[39;00m \u001b[38;5;28misinstance\u001b[39m(data, ma\u001b[38;5;241m.\u001b[39mMaskedArray):\n\u001b[1;32m    735\u001b[0m     \u001b[38;5;28;01mfrom\u001b[39;00m \u001b[38;5;21;01mnumpy\u001b[39;00m\u001b[38;5;21;01m.\u001b[39;00m\u001b[38;5;21;01mma\u001b[39;00m \u001b[38;5;28;01mimport\u001b[39;00m mrecords\n",
      "File \u001b[0;32m~/miniconda3/lib/python3.11/site-packages/pandas/core/internals/construction.py:503\u001b[0m, in \u001b[0;36mdict_to_mgr\u001b[0;34m(data, index, columns, dtype, typ, copy)\u001b[0m\n\u001b[1;32m    499\u001b[0m     \u001b[38;5;28;01melse\u001b[39;00m:\n\u001b[1;32m    500\u001b[0m         \u001b[38;5;66;03m# dtype check to exclude e.g. range objects, scalars\u001b[39;00m\n\u001b[1;32m    501\u001b[0m         arrays \u001b[38;5;241m=\u001b[39m [x\u001b[38;5;241m.\u001b[39mcopy() \u001b[38;5;28;01mif\u001b[39;00m \u001b[38;5;28mhasattr\u001b[39m(x, \u001b[38;5;124m\"\u001b[39m\u001b[38;5;124mdtype\u001b[39m\u001b[38;5;124m\"\u001b[39m) \u001b[38;5;28;01melse\u001b[39;00m x \u001b[38;5;28;01mfor\u001b[39;00m x \u001b[38;5;129;01min\u001b[39;00m arrays]\n\u001b[0;32m--> 503\u001b[0m \u001b[38;5;28;01mreturn\u001b[39;00m \u001b[43marrays_to_mgr\u001b[49m\u001b[43m(\u001b[49m\u001b[43marrays\u001b[49m\u001b[43m,\u001b[49m\u001b[43m \u001b[49m\u001b[43mcolumns\u001b[49m\u001b[43m,\u001b[49m\u001b[43m \u001b[49m\u001b[43mindex\u001b[49m\u001b[43m,\u001b[49m\u001b[43m \u001b[49m\u001b[43mdtype\u001b[49m\u001b[38;5;241;43m=\u001b[39;49m\u001b[43mdtype\u001b[49m\u001b[43m,\u001b[49m\u001b[43m \u001b[49m\u001b[43mtyp\u001b[49m\u001b[38;5;241;43m=\u001b[39;49m\u001b[43mtyp\u001b[49m\u001b[43m,\u001b[49m\u001b[43m \u001b[49m\u001b[43mconsolidate\u001b[49m\u001b[38;5;241;43m=\u001b[39;49m\u001b[43mcopy\u001b[49m\u001b[43m)\u001b[49m\n",
      "File \u001b[0;32m~/miniconda3/lib/python3.11/site-packages/pandas/core/internals/construction.py:114\u001b[0m, in \u001b[0;36marrays_to_mgr\u001b[0;34m(arrays, columns, index, dtype, verify_integrity, typ, consolidate)\u001b[0m\n\u001b[1;32m    111\u001b[0m \u001b[38;5;28;01mif\u001b[39;00m verify_integrity:\n\u001b[1;32m    112\u001b[0m     \u001b[38;5;66;03m# figure out the index, if necessary\u001b[39;00m\n\u001b[1;32m    113\u001b[0m     \u001b[38;5;28;01mif\u001b[39;00m index \u001b[38;5;129;01mis\u001b[39;00m \u001b[38;5;28;01mNone\u001b[39;00m:\n\u001b[0;32m--> 114\u001b[0m         index \u001b[38;5;241m=\u001b[39m \u001b[43m_extract_index\u001b[49m\u001b[43m(\u001b[49m\u001b[43marrays\u001b[49m\u001b[43m)\u001b[49m\n\u001b[1;32m    115\u001b[0m     \u001b[38;5;28;01melse\u001b[39;00m:\n\u001b[1;32m    116\u001b[0m         index \u001b[38;5;241m=\u001b[39m ensure_index(index)\n",
      "File \u001b[0;32m~/miniconda3/lib/python3.11/site-packages/pandas/core/internals/construction.py:677\u001b[0m, in \u001b[0;36m_extract_index\u001b[0;34m(data)\u001b[0m\n\u001b[1;32m    675\u001b[0m lengths \u001b[38;5;241m=\u001b[39m \u001b[38;5;28mlist\u001b[39m(\u001b[38;5;28mset\u001b[39m(raw_lengths))\n\u001b[1;32m    676\u001b[0m \u001b[38;5;28;01mif\u001b[39;00m \u001b[38;5;28mlen\u001b[39m(lengths) \u001b[38;5;241m>\u001b[39m \u001b[38;5;241m1\u001b[39m:\n\u001b[0;32m--> 677\u001b[0m     \u001b[38;5;28;01mraise\u001b[39;00m \u001b[38;5;167;01mValueError\u001b[39;00m(\u001b[38;5;124m\"\u001b[39m\u001b[38;5;124mAll arrays must be of the same length\u001b[39m\u001b[38;5;124m\"\u001b[39m)\n\u001b[1;32m    679\u001b[0m \u001b[38;5;28;01mif\u001b[39;00m have_dicts:\n\u001b[1;32m    680\u001b[0m     \u001b[38;5;28;01mraise\u001b[39;00m \u001b[38;5;167;01mValueError\u001b[39;00m(\n\u001b[1;32m    681\u001b[0m         \u001b[38;5;124m\"\u001b[39m\u001b[38;5;124mMixing dicts with non-Series may lead to ambiguous ordering.\u001b[39m\u001b[38;5;124m\"\u001b[39m\n\u001b[1;32m    682\u001b[0m     )\n",
      "\u001b[0;31mValueError\u001b[0m: All arrays must be of the same length"
     ]
    }
   ],
   "source": [
    "import csv\n",
    "import pandas as pd\n",
    "comment_text_val=[]\n",
    "for i in dev_list:\n",
    "    comment_text_val.append(i[1])\n",
    "df = pd.DataFrame({'Comment':comment_text_val,'Predicted': final_valid_prediction})\n",
    "df.to_csv('predictions_val_LSTM.csv', index=False)\n",
    "\n",
    "df = pd.DataFrame({'Comment':comment_text_test,'Predicted': test_prediction})\n",
    "df.to_csv('predictions_test_LSTM.csv', index=False)"
   ]
  }
 ],
 "metadata": {
  "kernelspec": {
   "display_name": "Python 3",
   "language": "python",
   "name": "python3"
  },
  "language_info": {
   "codemirror_mode": {
    "name": "ipython",
    "version": 3
   },
   "file_extension": ".py",
   "mimetype": "text/x-python",
   "name": "python",
   "nbconvert_exporter": "python",
   "pygments_lexer": "ipython3",
   "version": "3.11.5"
  }
 },
 "nbformat": 4,
 "nbformat_minor": 4
}
